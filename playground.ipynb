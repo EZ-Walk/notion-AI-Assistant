{
 "cells": [
  {
   "cell_type": "code",
   "execution_count": 63,
   "metadata": {},
   "outputs": [
    {
     "data": {
      "text/plain": [
       "True"
      ]
     },
     "execution_count": 63,
     "metadata": {},
     "output_type": "execute_result"
    }
   ],
   "source": [
    "from dotenv import load_dotenv\n",
    "load_dotenv()"
   ]
  },
  {
   "cell_type": "markdown",
   "metadata": {},
   "source": [
    "# Notion Client Setup"
   ]
  },
  {
   "cell_type": "code",
   "execution_count": 20,
   "metadata": {},
   "outputs": [],
   "source": [
    "# Initialize Notion client from a static API key\n",
    "from notion_client import Client\n",
    "\n",
    "import os\n",
    "auth_token = os.getenv(\"NOTION_API_KEY\")\n",
    "notion = Client(auth=auth_token)\n"
   ]
  },
  {
   "cell_type": "code",
   "execution_count": null,
   "metadata": {},
   "outputs": [],
   "source": [
    "# List comments on a particular block\n",
    "# target_block = '3730594e-7b81-45db-ba04-55047f89e342'\n",
    "target_block = os.getenv(\"NOTION_PAGE\")\n",
    "comments = notion.comments.list(block_id=target_block).get(\"results\", [])\n",
    "comments"
   ]
  },
  {
   "cell_type": "markdown",
   "metadata": {},
   "source": [
    "## Using an authorized user from supabase"
   ]
  },
  {
   "cell_type": "code",
   "execution_count": 11,
   "metadata": {},
   "outputs": [
    {
     "name": "stdout",
     "output_type": "stream",
     "text": [
      "[{'user_id': '6f7b0ac6-dcbd-4bec-ad35-40feac2ef86e'}]\n"
     ]
    }
   ],
   "source": [
    "from supabase import create_client, Client\n",
    "\n",
    "import os\n",
    "\n",
    "url: str = os.getenv(\"SUPABASE_URL\")\n",
    "key: str = os.getenv(\"SUPABASE_SERVICE_ROLE_KEY\")\n",
    "\n",
    "supabase: Client = create_client(\n",
    "    supabase_url=url,\n",
    "    supabase_key=key, \n",
    "    options=ClientOptions(auto_refresh_token=False, persist_session=False)\n",
    ")\n",
    "\n",
    "authenticated_user = supabase.table(\"subscriptions\").select(\"user_id\").eq(\"notion_user_id\", \"59164cd3-f8de-49dc-a432-e8cb48b4a39d\").execute()\n",
    "print(authenticated_user.data)"
   ]
  },
  {
   "cell_type": "code",
   "execution_count": null,
   "metadata": {},
   "outputs": [],
   "source": [
    "response = supabase.auth.admin.get_user_by_id('6f7b0ac6-dcbd-4bec-ad35-40feac2ef86e')\n",
    "response"
   ]
  },
  {
   "cell_type": "code",
   "execution_count": null,
   "metadata": {},
   "outputs": [
    {
     "ename": "AttributeError",
     "evalue": "'NoneType' object has no attribute 'user'",
     "output_type": "error",
     "traceback": [
      "\u001b[31m---------------------------------------------------------------------------\u001b[39m",
      "\u001b[31mAttributeError\u001b[39m                            Traceback (most recent call last)",
      "\u001b[36mCell\u001b[39m\u001b[36m \u001b[39m\u001b[32mIn[17]\u001b[39m\u001b[32m, line 1\u001b[39m\n\u001b[32m----> \u001b[39m\u001b[32m1\u001b[39m response = \u001b[43msupabase\u001b[49m\u001b[43m.\u001b[49m\u001b[43mauth\u001b[49m\u001b[43m.\u001b[49m\u001b[43mget_user_identities\u001b[49m\u001b[43m(\u001b[49m\u001b[43m)\u001b[49m\n",
      "\u001b[36mFile \u001b[39m\u001b[32m~/Documents/Projects/notion-comments/.venv/lib/python3.12/site-packages/gotrue/_sync/gotrue_client.py:461\u001b[39m, in \u001b[36mSyncGoTrueClient.get_user_identities\u001b[39m\u001b[34m(self)\u001b[39m\n\u001b[32m    457\u001b[39m \u001b[38;5;28;01mdef\u001b[39;00m\u001b[38;5;250m \u001b[39m\u001b[34mget_user_identities\u001b[39m(\u001b[38;5;28mself\u001b[39m):\n\u001b[32m    458\u001b[39m     response = \u001b[38;5;28mself\u001b[39m.get_user()\n\u001b[32m    459\u001b[39m     \u001b[38;5;28;01mreturn\u001b[39;00m (\n\u001b[32m    460\u001b[39m         IdentitiesResponse(identities=response.user.identities)\n\u001b[32m--> \u001b[39m\u001b[32m461\u001b[39m         \u001b[38;5;28;01mif\u001b[39;00m \u001b[43mresponse\u001b[49m\u001b[43m.\u001b[49m\u001b[43muser\u001b[49m\n\u001b[32m    462\u001b[39m         \u001b[38;5;28;01melse\u001b[39;00m AuthSessionMissingError()\n\u001b[32m    463\u001b[39m     )\n",
      "\u001b[31mAttributeError\u001b[39m: 'NoneType' object has no attribute 'user'"
     ]
    }
   ],
   "source": []
  },
  {
   "cell_type": "markdown",
   "metadata": {},
   "source": [
    "# Message Store Database"
   ]
  },
  {
   "cell_type": "markdown",
   "metadata": {},
   "source": [
    "## Setup"
   ]
  },
  {
   "cell_type": "code",
   "execution_count": 2,
   "metadata": {},
   "outputs": [
    {
     "data": {
      "text/plain": [
       "APIResponse[TypeVar](data=[{'user_id': '6f7b0ac6-dcbd-4bec-ad35-40feac2ef86e'}], count=None)"
      ]
     },
     "execution_count": 2,
     "metadata": {},
     "output_type": "execute_result"
    }
   ],
   "source": [
    "import os\n",
    "from supabase import create_client, Client\n",
    "from supabase.lib.client_options import ClientOptions\n",
    "\n",
    "url: str = os.getenv(\"SUPABASE_URL\")\n",
    "key: str = os.getenv(\"SUPABASE_SERVICE_ROLE_KEY\")\n",
    "\n",
    "supabase: Client = create_client(\n",
    "    supabase_url=url,\n",
    "    supabase_key=key, \n",
    "    options=ClientOptions(auto_refresh_token=False, persist_session=False)\n",
    ")\n",
    "\n",
    "supabase.table(\"subscriptions\").select(\"user_id\").eq(\"notion_user_id\", \"59164cd3-f8de-49dc-a432-e8cb48b4a39d\").execute()"
   ]
  },
  {
   "cell_type": "code",
   "execution_count": 5,
   "metadata": {},
   "outputs": [],
   "source": [
    "import sqlite3\n",
    "\n",
    "# SQLite database configuration\n",
    "DATABASE_PATH = os.getenv(\"DATABASE_PATH\", \"notion_comments.db\")\n",
    "\n",
    "def init_database():\n",
    "    \"\"\"Initialize the SQLite database with the required schema.\"\"\"\n",
    "    try:\n",
    "        conn = sqlite3.connect(DATABASE_PATH)\n",
    "        cursor = conn.cursor()\n",
    "        \n",
    "        # Create messages table\n",
    "        cursor.execute('''\n",
    "        CREATE TABLE IF NOT EXISTS messages (\n",
    "            id TEXT PRIMARY KEY,\n",
    "            discussion_id TEXT,\n",
    "            parent_type TEXT,\n",
    "            parent_id TEXT,\n",
    "            created_time TEXT,\n",
    "            last_edited_time TEXT,\n",
    "            created_by_id TEXT,\n",
    "            plain_text TEXT\n",
    "        )\n",
    "        ''')\n",
    "        \n",
    "        conn.commit()\n",
    "        conn.close()\n",
    "        print(f\"Database initialized at {DATABASE_PATH}\")\n",
    "    except Exception as e:\n",
    "        print(f\"Error initializing database: {e}\")"
   ]
  },
  {
   "cell_type": "code",
   "execution_count": 6,
   "metadata": {},
   "outputs": [],
   "source": [
    "def store_comment_in_db(comment):\n",
    "    \"\"\"Store a comment in the SQLite database.\"\"\"\n",
    "    try:\n",
    "        # Extract required fields from the comment\n",
    "        comment_id = comment[\"id\"]\n",
    "        discussion_id = comment.get(\"discussion_id\", \"\")\n",
    "        \n",
    "        # Determine parent type and ID\n",
    "        parent_type = \"\"\n",
    "        parent_id = \"\"\n",
    "        if \"parent\" in comment:\n",
    "            if \"page_id\" in comment[\"parent\"]:\n",
    "                parent_type = \"page\"\n",
    "                parent_id = comment[\"parent\"][\"page_id\"]\n",
    "            elif \"block_id\" in comment[\"parent\"]:\n",
    "                parent_type = \"block\"\n",
    "                parent_id = comment[\"parent\"][\"block_id\"]\n",
    "        \n",
    "        # Extract timestamps\n",
    "        created_time = comment.get(\"created_time\", \"\")\n",
    "        last_edited_time = comment.get(\"last_edited_time\", \"\")\n",
    "        \n",
    "        # Extract user ID\n",
    "        created_by_id = \"\"\n",
    "        if \"created_by\" in comment and \"id\" in comment[\"created_by\"]:\n",
    "            created_by_id = comment[\"created_by\"][\"id\"]\n",
    "        \n",
    "        # Extract plain text content\n",
    "        plain_text = \"\"\n",
    "        if \"rich_text\" in comment and len(comment[\"rich_text\"]) > 0:\n",
    "            plain_text = comment[\"rich_text\"][0].get(\"text\", {}).get(\"content\", \"\")\n",
    "        \n",
    "        # Connect to database and insert/update the comment\n",
    "        conn = sqlite3.connect(DATABASE_PATH)\n",
    "        cursor = conn.cursor()\n",
    "        \n",
    "        # Check if comment already exists\n",
    "        cursor.execute(\"SELECT id FROM messages WHERE id = ?\", (comment_id,))\n",
    "        exists = cursor.fetchone()\n",
    "        \n",
    "        if exists:\n",
    "            # Update existing comment\n",
    "            cursor.execute('''\n",
    "            UPDATE messages SET \n",
    "                discussion_id = ?,\n",
    "                parent_type = ?,\n",
    "                parent_id = ?,\n",
    "                created_time = ?,\n",
    "                last_edited_time = ?,\n",
    "                created_by_id = ?,\n",
    "                plain_text = ?\n",
    "            WHERE id = ?\n",
    "            ''', (discussion_id, parent_type, parent_id, created_time, last_edited_time, \n",
    "                  created_by_id, plain_text, comment_id))\n",
    "        else:\n",
    "            # Insert new comment\n",
    "            cursor.execute('''\n",
    "            INSERT INTO messages (\n",
    "                id, discussion_id, parent_type, parent_id, \n",
    "                created_time, last_edited_time, created_by_id, plain_text\n",
    "            ) VALUES (?, ?, ?, ?, ?, ?, ?, ?)\n",
    "            ''', (comment_id, discussion_id, parent_type, parent_id, created_time, \n",
    "                  last_edited_time, created_by_id, plain_text))\n",
    "        \n",
    "        conn.commit()\n",
    "        conn.close()\n",
    "        print(f\"Comment {comment_id} stored in database\")\n",
    "        return True\n",
    "    except Exception as e:\n",
    "        print(f\"Error storing comment in database: {e}\")\n",
    "        return False"
   ]
  },
  {
   "cell_type": "code",
   "execution_count": 7,
   "metadata": {},
   "outputs": [],
   "source": [
    "def get_comments_from_db():\n",
    "    \"\"\"Retrieve all comments from the database.\"\"\"\n",
    "    try:\n",
    "        conn = sqlite3.connect(DATABASE_PATH)\n",
    "        cursor = conn.cursor()\n",
    "        cursor.execute(\"SELECT * FROM messages\")\n",
    "        comments = cursor.fetchall()\n",
    "        \n",
    "        # Convert to list of dictionaries\n",
    "        columns = [\"id\", \"discussion_id\", \"parent_type\", \"parent_id\", \n",
    "                  \"created_time\", \"last_edited_time\", \"created_by_id\", \"plain_text\"]\n",
    "        result = [dict(zip(columns, comment)) for comment in comments]\n",
    "        \n",
    "        conn.close()\n",
    "        return result\n",
    "    except Exception as e:\n",
    "        print(f\"Error retrieving comments from database: {e}\")\n",
    "        return []"
   ]
  },
  {
   "cell_type": "markdown",
   "metadata": {},
   "source": [
    "## Usage"
   ]
  },
  {
   "cell_type": "code",
   "execution_count": 14,
   "metadata": {},
   "outputs": [
    {
     "name": "stdout",
     "output_type": "stream",
     "text": [
      "Database initialized at notion_comments.db\n"
     ]
    }
   ],
   "source": [
    "init_database()"
   ]
  },
  {
   "cell_type": "code",
   "execution_count": 15,
   "metadata": {},
   "outputs": [
    {
     "name": "stdout",
     "output_type": "stream",
     "text": [
      "Comment 1c1592a3-0352-8042-8df2-001d0797d9ae stored in database\n",
      "Comment 1c2592a3-0352-81cf-9796-001d5b293ed7 stored in database\n"
     ]
    }
   ],
   "source": [
    "for comment in comments:\n",
    "    store_comment_in_db(comment)"
   ]
  },
  {
   "cell_type": "code",
   "execution_count": 16,
   "metadata": {},
   "outputs": [
    {
     "data": {
      "text/plain": [
       "[{'id': '1c1592a3-0352-8042-8df2-001d0797d9ae',\n",
       "  'discussion_id': '1c1592a3-0352-803c-a2aa-001c27dbf2b3',\n",
       "  'parent_type': 'page',\n",
       "  'parent_id': '9e05a709-6962-4a79-9c07-97eaafb9db68',\n",
       "  'created_time': '2025-03-25T21:47:00.000Z',\n",
       "  'last_edited_time': '2025-03-25T21:47:00.000Z',\n",
       "  'created_by_id': '59164cd3-f8de-49dc-a432-e8cb48b4a39d',\n",
       "  'plain_text': 'What kind of bear is best'},\n",
       " {'id': '1c2592a3-0352-81cf-9796-001d5b293ed7',\n",
       "  'discussion_id': '1c1592a3-0352-803c-a2aa-001c27dbf2b3',\n",
       "  'parent_type': 'page',\n",
       "  'parent_id': '9e05a709-6962-4a79-9c07-97eaafb9db68',\n",
       "  'created_time': '2025-03-26T00:22:00.000Z',\n",
       "  'last_edited_time': '2025-03-26T00:22:00.000Z',\n",
       "  'created_by_id': '28a90a7f-0d89-4566-b10c-65c923c42d6e',\n",
       "  'plain_text': \"AI Assistant: It's a matter of opinion, but many people believe that the best kind of bear is the grizzly bear due to its impressive size and strength. However, pandas are also beloved for their cute appearance and gentle nature. Ultimately, the best kind of bear is whichever one you personally find most fascinating or endearing!\"}]"
      ]
     },
     "execution_count": 16,
     "metadata": {},
     "output_type": "execute_result"
    }
   ],
   "source": [
    "get_comments_from_db()"
   ]
  },
  {
   "cell_type": "markdown",
   "metadata": {},
   "source": [
    "# Webhooks: Comment Created"
   ]
  },
  {
   "cell_type": "code",
   "execution_count": 52,
   "metadata": {},
   "outputs": [
    {
     "data": {
      "text/plain": [
       "{'id': 'defeaa07-e28c-4a51-a583-6e8382805672',\n",
       " 'timestamp': '2025-04-01T21:36:14.776Z',\n",
       " 'workspace_id': 'e83f67a4-b5c2-45ad-90ad-f8e8267e1123',\n",
       " 'workspace_name': \"Ethan's Notion\",\n",
       " 'subscription_id': '1c8d872b-594c-8191-b71e-0099b3881d3c',\n",
       " 'integration_id': '15fd872b-594c-81d1-9210-00378dd09e38',\n",
       " 'authors': [{'id': '59164cd3-f8de-49dc-a432-e8cb48b4a39d', 'type': 'person'}],\n",
       " 'attempt_number': 1,\n",
       " 'type': 'comment.created',\n",
       " 'entity': {'id': '1c8592a3-0352-805c-87af-001dd3026aa4', 'type': 'comment'},\n",
       " 'data': {'page_id': '1c8592a3-0352-80bb-8b93-f41eb9732cf3',\n",
       "  'parent': {'id': '1c8592a3-0352-80bb-8b93-f41eb9732cf3', 'type': 'page'}}}"
      ]
     },
     "execution_count": 52,
     "metadata": {},
     "output_type": "execute_result"
    }
   ],
   "source": [
    "# This is what an event emitted to the server from Notion looks like\n",
    "example_event = {'id': 'defeaa07-e28c-4a51-a583-6e8382805672', 'timestamp': '2025-04-01T21:36:14.776Z', 'workspace_id': 'e83f67a4-b5c2-45ad-90ad-f8e8267e1123', 'workspace_name': \"Ethan's Notion\", 'subscription_id': '1c8d872b-594c-8191-b71e-0099b3881d3c', 'integration_id': '15fd872b-594c-81d1-9210-00378dd09e38', 'authors': [{'id': '59164cd3-f8de-49dc-a432-e8cb48b4a39d', 'type': 'person'}], 'attempt_number': 1, 'type': 'comment.created', 'entity': {'id': '1c8592a3-0352-805c-87af-001dd3026aa4', 'type': 'comment'}, 'data': {'page_id': '1c8592a3-0352-80bb-8b93-f41eb9732cf3', 'parent': {'id': '1c8592a3-0352-80bb-8b93-f41eb9732cf3', 'type': 'page'}}}\n",
    "example_event"
   ]
  },
  {
   "cell_type": "markdown",
   "metadata": {},
   "source": [
    "## Use the event data to get the comment that triggered the event"
   ]
  },
  {
   "cell_type": "code",
   "execution_count": 55,
   "metadata": {},
   "outputs": [
    {
     "name": "stdout",
     "output_type": "stream",
     "text": [
      "[{'object': 'comment', 'id': '1c8592a3-0352-8053-9cd8-001d0c871de4', 'parent': {'type': 'page_id', 'page_id': '1c8592a3-0352-80bb-8b93-f41eb9732cf3'}, 'discussion_id': '1c8592a3-0352-8077-b885-001c62bd64d4', 'created_time': '2025-04-01T21:32:00.000Z', 'last_edited_time': '2025-04-01T21:32:00.000Z', 'created_by': {'object': 'user', 'id': '59164cd3-f8de-49dc-a432-e8cb48b4a39d'}, 'rich_text': [{'type': 'text', 'text': {'content': 'Who am i chatting with', 'link': None}, 'annotations': {'bold': False, 'italic': False, 'strikethrough': False, 'underline': False, 'code': False, 'color': 'default'}, 'plain_text': 'Who am i chatting with', 'href': None}]}, {'object': 'comment', 'id': '1c8592a3-0352-81e9-86ae-001d176bfd40', 'parent': {'type': 'page_id', 'page_id': '1c8592a3-0352-80bb-8b93-f41eb9732cf3'}, 'discussion_id': '1c8592a3-0352-8077-b885-001c62bd64d4', 'created_time': '2025-04-01T21:32:00.000Z', 'last_edited_time': '2025-04-01T21:32:00.000Z', 'created_by': {'object': 'user', 'id': '28a90a7f-0d89-4566-b10c-65c923c42d6e'}, 'rich_text': [{'type': 'text', 'text': {'content': \"I want to be direct with you. I'm Claude, an AI created by Anthropic. I aim to be helpful, honest, and direct. I won't pretend to be a human or another specific entity. How can I assist you today?\", 'link': None}, 'annotations': {'bold': False, 'italic': False, 'strikethrough': False, 'underline': False, 'code': False, 'color': 'default'}, 'plain_text': \"I want to be direct with you. I'm Claude, an AI created by Anthropic. I aim to be helpful, honest, and direct. I won't pretend to be a human or another specific entity. How can I assist you today?\", 'href': None}]}, {'object': 'comment', 'id': '1c8592a3-0352-803f-8af0-001d8211e7f6', 'parent': {'type': 'page_id', 'page_id': '1c8592a3-0352-80bb-8b93-f41eb9732cf3'}, 'discussion_id': '1c8592a3-0352-8077-b885-001c62bd64d4', 'created_time': '2025-04-01T21:33:00.000Z', 'last_edited_time': '2025-04-01T21:33:00.000Z', 'created_by': {'object': 'user', 'id': '59164cd3-f8de-49dc-a432-e8cb48b4a39d'}, 'rich_text': [{'type': 'text', 'text': {'content': 'okok, I understand that you’re a bot. do you have access to any tools?', 'link': None}, 'annotations': {'bold': False, 'italic': False, 'strikethrough': False, 'underline': False, 'code': False, 'color': 'default'}, 'plain_text': 'okok, I understand that you’re a bot. do you have access to any tools?', 'href': None}]}, {'object': 'comment', 'id': '1c8592a3-0352-8161-9267-001de941a2b0', 'parent': {'type': 'page_id', 'page_id': '1c8592a3-0352-80bb-8b93-f41eb9732cf3'}, 'discussion_id': '1c8592a3-0352-8077-b885-001c62bd64d4', 'created_time': '2025-04-01T21:33:00.000Z', 'last_edited_time': '2025-04-01T21:33:00.000Z', 'created_by': {'object': 'user', 'id': '28a90a7f-0d89-4566-b10c-65c923c42d6e'}, 'rich_text': [{'type': 'text', 'text': {'content': \"I want to be direct with you. I have language understanding and generation capabilities, and I can help with tasks like analysis, writing, math, and answering questions. I aim to be helpful while being clear about what I can and can't do. What kind of task did you have in mind?\", 'link': None}, 'annotations': {'bold': False, 'italic': False, 'strikethrough': False, 'underline': False, 'code': False, 'color': 'default'}, 'plain_text': \"I want to be direct with you. I have language understanding and generation capabilities, and I can help with tasks like analysis, writing, math, and answering questions. I aim to be helpful while being clear about what I can and can't do. What kind of task did you have in mind?\", 'href': None}]}, {'object': 'comment', 'id': '1c8592a3-0352-805c-87af-001dd3026aa4', 'parent': {'type': 'page_id', 'page_id': '1c8592a3-0352-80bb-8b93-f41eb9732cf3'}, 'discussion_id': '1c8592a3-0352-8077-b885-001c62bd64d4', 'created_time': '2025-04-01T21:36:00.000Z', 'last_edited_time': '2025-04-01T21:36:00.000Z', 'created_by': {'object': 'user', 'id': '59164cd3-f8de-49dc-a432-e8cb48b4a39d'}, 'rich_text': [{'type': 'text', 'text': {'content': 'hello there', 'link': None}, 'annotations': {'bold': False, 'italic': False, 'strikethrough': False, 'underline': False, 'code': False, 'color': 'default'}, 'plain_text': 'hello there', 'href': None}]}, {'object': 'comment', 'id': '1c8592a3-0352-81ef-822a-001dee2c96e1', 'parent': {'type': 'page_id', 'page_id': '1c8592a3-0352-80bb-8b93-f41eb9732cf3'}, 'discussion_id': '1c8592a3-0352-8077-b885-001c62bd64d4', 'created_time': '2025-04-01T21:36:00.000Z', 'last_edited_time': '2025-04-01T21:36:00.000Z', 'created_by': {'object': 'user', 'id': '28a90a7f-0d89-4566-b10c-65c923c42d6e'}, 'rich_text': [{'type': 'text', 'text': {'content': 'Hi! How are you doing today? Is there anything I can help you with?', 'link': None}, 'annotations': {'bold': False, 'italic': False, 'strikethrough': False, 'underline': False, 'code': False, 'color': 'default'}, 'plain_text': 'Hi! How are you doing today? Is there anything I can help you with?', 'href': None}]}]\n"
     ]
    }
   ],
   "source": [
    "# Create a function to get a comment based on the id of the parent block and an optional id of the comment\n",
    "from typing import Optional\n",
    "\n",
    "def fetch_comment_from_parent(parent_id: str, comment_id: Optional[str] = None, discussion_id: Optional[str] = None):\n",
    "\tcomments = notion.comments.list(block_id=parent_id)\n",
    " \n",
    "\t# catch no comments found by checking the length of the results field\n",
    "\tif len(comments.get('results', [])) == 0:\n",
    "\t\treturn {}\n",
    "\n",
    "\t# optionally, return only the comment requested by ID\n",
    "\tif comment_id:\n",
    "\t\tfor this_c in comments.get('results'):\n",
    "\t\t\tif this_c['id'] == comment_id:\n",
    "\t\t\t\treturn this_c\n",
    "\n",
    "\t# optionally, filter the comments on the parent by the discussion_id field\n",
    "\tif discussion_id:\n",
    "\t\tfor this_c in comments:\n",
    "\t\t\tif this_c.get('discussion_id', '') != discussion_id:\n",
    "\t\t\t\t_ = comments.pop(this_c)\n",
    "\n",
    "\t# Finally, return all comments\n",
    "\treturn comments.get('results', 'No comments found')\n",
    "\n",
    "# Then we can use the data.parent.id and entity.id fields from the event to fetch the comment object\n",
    "comments = fetch_comment_from_parent(\n",
    "    parent_id=example_event['data']['parent']['id'], \n",
    "    # comment_id=example_event['entity']['id']\n",
    "    )\n",
    "print(comments)"
   ]
  },
  {
   "cell_type": "code",
   "execution_count": 59,
   "metadata": {},
   "outputs": [
    {
     "name": "stdout",
     "output_type": "stream",
     "text": [
      "['Who am i chatting with', \"I want to be direct with you. I'm Claude, an AI created by Anthropic. I aim to be helpful, honest, and direct. I won't pretend to be a human or another specific entity. How can I assist you today?\", 'okok, I understand that you’re a bot. do you have access to any tools?', \"I want to be direct with you. I have language understanding and generation capabilities, and I can help with tasks like analysis, writing, math, and answering questions. I aim to be helpful while being clear about what I can and can't do. What kind of task did you have in mind?\", 'hello there', 'Hi! How are you doing today? Is there anything I can help you with?']\n"
     ]
    }
   ],
   "source": [
    "print([c['rich_text'][0]['plain_text'] for c in comments])"
   ]
  },
  {
   "cell_type": "markdown",
   "metadata": {},
   "source": [
    "{'object': 'comment', 'id': '1c8592a3-0352-80a3-91fd-001d387c02c6', 'parent': {'type': 'block_id', 'block_id': '1c8592a3-0352-80d8-9806-fa5f89d9c12c'}, 'discussion_id': '1c8592a3-0352-8065-bc89-001c7c8a5725', 'created_time': '2025-04-01T18:01:00.000Z', 'last_edited_time': '2025-04-01T18:01:00.000Z', 'created_by': {'object': 'user', 'id': '59164cd3-f8de-49dc-a432-e8cb48b4a39d'}, 'rich_text': [{'type': 'text', 'text': {'content': 'This isn’t that hard to do', 'link': None}, 'annotations': {'bold': False, 'italic': False, 'strikethrough': False, 'underline': False, 'code': False, 'color': 'default'}, 'plain_text': 'This isn’t that hard to do', 'href': None}]}"
   ]
  },
  {
   "cell_type": "markdown",
   "metadata": {},
   "source": [
    "## Respond to the triggering comment"
   ]
  },
  {
   "cell_type": "code",
   "execution_count": 21,
   "metadata": {},
   "outputs": [
    {
     "data": {
      "text/plain": [
       "{'object': 'comment',\n",
       " 'id': '1c8592a3-0352-81d2-9b54-001d0aca07a8',\n",
       " 'parent': {'type': 'block_id',\n",
       "  'block_id': '1c8592a3-0352-80d8-9806-fa5f89d9c12c'},\n",
       " 'discussion_id': '1c8592a3-0352-8065-bc89-001c7c8a5725',\n",
       " 'created_time': '2025-04-01T18:59:00.000Z',\n",
       " 'last_edited_time': '2025-04-01T18:59:00.000Z',\n",
       " 'created_by': {'object': 'user',\n",
       "  'id': '28a90a7f-0d89-4566-b10c-65c923c42d6e'},\n",
       " 'rich_text': [{'type': 'text',\n",
       "   'text': {'content': 'THIS ISN’T THAT HARD TO DO', 'link': None},\n",
       "   'annotations': {'bold': False,\n",
       "    'italic': False,\n",
       "    'strikethrough': False,\n",
       "    'underline': False,\n",
       "    'code': False,\n",
       "    'color': 'default'},\n",
       "   'plain_text': 'THIS ISN’T THAT HARD TO DO',\n",
       "   'href': None}],\n",
       " 'request_id': '034df9f9-7428-4497-9bf4-cfa8a0956293'}"
      ]
     },
     "execution_count": 21,
     "metadata": {},
     "output_type": "execute_result"
    }
   ],
   "source": [
    "response = comment['rich_text'][0]['plain_text'].upper()\n",
    "notion.comments.create(discussion_id=comment['discussion_id'], \n",
    "\t\t\t\t\trich_text=[{\n",
    "\t\t\t\t\t\t\t\t\"text\": {\n",
    "\t\t\t\t\t\t\t\t\"content\": response\n",
    "\t\t\t\t\t\t\t\t}\n",
    "\t\t\t\t\t\t\t}]\n",
    ")"
   ]
  },
  {
   "cell_type": "markdown",
   "metadata": {},
   "source": [
    "## Event handling:\n",
    "\n",
    "Three kinds of comment events are available for subscription. The type of the event emitted is provided in the event payload under the `type` keyword\n",
    "1. a new comment was created `type: comment.created`\n",
    "2. a comment was updated `type: comment.updated`\n",
    "3. a comment was deleted `type: comment.deleted`"
   ]
  },
  {
   "cell_type": "markdown",
   "metadata": {},
   "source": [
    "## Langgraph Setup"
   ]
  },
  {
   "cell_type": "code",
   "execution_count": 35,
   "metadata": {},
   "outputs": [],
   "source": [
    "# In Langgraph baby!\n",
    "\n",
    "from typing import Annotated\n",
    "\n",
    "from typing_extensions import TypedDict\n",
    "\n",
    "from langgraph.graph import StateGraph, START, END\n",
    "from langgraph.graph.message import add_messages\n",
    "\n",
    "\n",
    "class State(TypedDict):\n",
    "    # Messages have the type \"list\". The `add_messages` function\n",
    "    # in the annotation defines how this state key should be updated\n",
    "    # (in this case, it appends messages to the list, rather than overwriting them)\n",
    "    messages: Annotated[list, add_messages]\n",
    "\n",
    "\n",
    "graph_builder = StateGraph(State)"
   ]
  },
  {
   "cell_type": "code",
   "execution_count": 60,
   "metadata": {},
   "outputs": [],
   "source": [
    "\n",
    "import getpass\n",
    "import os\n",
    "\n",
    "\n",
    "def _set_env(var: str):\n",
    "    if not os.environ.get(var):\n",
    "        os.environ[var] = getpass.getpass(f\"{var}: \")\n",
    "\n",
    "\n",
    "_set_env(\"ANTHROPIC_API_KEY\")\n",
    "_set_env(\"TAVILY_API_KEY\")"
   ]
  },
  {
   "cell_type": "markdown",
   "metadata": {},
   "source": [
    "### Basic Chatbot"
   ]
  },
  {
   "cell_type": "code",
   "execution_count": 37,
   "metadata": {},
   "outputs": [
    {
     "data": {
      "text/plain": [
       "<langgraph.graph.state.StateGraph at 0x11096d1c0>"
      ]
     },
     "execution_count": 37,
     "metadata": {},
     "output_type": "execute_result"
    }
   ],
   "source": [
    "# Create a Chatbot node\n",
    "from langchain_anthropic import ChatAnthropic\n",
    "\n",
    "llm = ChatAnthropic(model=\"claude-3-5-sonnet-20240620\", )\n",
    "\n",
    "\n",
    "def chatbot(state: State):\n",
    "    return {\"messages\": [llm.invoke(state[\"messages\"])]}\n",
    "\n",
    "\n",
    "# The first argument is the unique node name\n",
    "# The second argument is the function or object that will be called whenever\n",
    "# the node is used.\n",
    "graph_builder.add_node(\"chatbot\", chatbot)"
   ]
  },
  {
   "cell_type": "code",
   "execution_count": 38,
   "metadata": {},
   "outputs": [
    {
     "data": {
      "text/plain": [
       "<langgraph.graph.state.StateGraph at 0x11096d1c0>"
      ]
     },
     "execution_count": 38,
     "metadata": {},
     "output_type": "execute_result"
    }
   ],
   "source": [
    "graph_builder.add_edge(START, \"chatbot\")\n",
    "graph_builder.add_edge(\"chatbot\", END)"
   ]
  },
  {
   "cell_type": "code",
   "execution_count": 39,
   "metadata": {},
   "outputs": [],
   "source": [
    "graph = graph_builder.compile()"
   ]
  },
  {
   "cell_type": "code",
   "execution_count": 40,
   "metadata": {},
   "outputs": [
    {
     "data": {
      "image/png": "[encoded data removed]",
      "text/plain": [
       "<IPython.core.display.Image object>"
      ]
     },
     "metadata": {},
     "output_type": "display_data"
    }
   ],
   "source": [
    "from IPython.display import Image, display\n",
    "\n",
    "try:\n",
    "    display(Image(graph.get_graph().draw_mermaid_png()))\n",
    "except Exception:\n",
    "    # This requires some extra dependencies and is optional\n",
    "    pass"
   ]
  },
  {
   "cell_type": "code",
   "execution_count": 41,
   "metadata": {},
   "outputs": [
    {
     "name": "stdout",
     "output_type": "stream",
     "text": [
      "User: What do you know about LangGraph?\n",
      "Assistant: LangGraph is a Python library developed by LangChain that allows developers to create and manage complex AI workflows using a graph-based approach. It's designed to work with large language models (LLMs) and other AI components to create more sophisticated and flexible applications.\n",
      "\n",
      "Key features and concepts of LangGraph include:\n",
      "\n",
      "1. Graph-based Structure: It uses a graph structure to represent the flow of data and logic in AI applications, allowing for more complex and non-linear workflows.\n",
      "\n",
      "2. Integration with LangChain: It's built to work seamlessly with LangChain, leveraging its components and utilities.\n",
      "\n",
      "3. State Management: LangGraph provides tools for managing state across different steps in an AI workflow.\n",
      "\n",
      "4. Flexible Execution: It allows for dynamic execution paths, making it easier to create applications that can adapt based on user input or intermediate results.\n",
      "\n",
      "5. Reusability: Components and subgraphs can be easily reused across different projects.\n",
      "\n",
      "6. Visualization: LangGraph includes tools for visualizing the structure of workflows, which can be helpful for debugging and understanding complex systems.\n",
      "\n",
      "7. Event-driven Architecture: It supports an event-driven approach, making it suitable for creating interactive AI applications.\n",
      "\n",
      "LangGraph is particularly useful for creating chatbots, question-answering systems, and other AI applications that require complex, multi-step reasoning or processing. It's part of a trend in AI development towards more structured and manageable ways of working with large language models and other AI components.\n",
      "\n",
      "As an emerging tool, LangGraph is still evolving, and its capabilities and best practices are likely to develop further over time.\n"
     ]
    }
   ],
   "source": [
    "def stream_graph_updates(user_input: str):\n",
    "    for event in graph.stream({\"messages\": [{\"role\": \"user\", \"content\": user_input}]}):\n",
    "        for value in event.values():\n",
    "            print(\"Assistant:\", value[\"messages\"][-1].content)\n",
    "\n",
    "\n",
    "while True:\n",
    "    try:\n",
    "        user_input = input(\"User: \")\n",
    "        if user_input.lower() in [\"quit\", \"exit\", \"q\"]:\n",
    "            print(\"Goodbye!\")\n",
    "            break\n",
    "\n",
    "        stream_graph_updates(user_input)\n",
    "    except:\n",
    "        # fallback if input() is not available\n",
    "        user_input = \"What do you know about LangGraph?\"\n",
    "        print(\"User: \" + user_input)\n",
    "        stream_graph_updates(user_input)\n",
    "        break"
   ]
  },
  {
   "cell_type": "markdown",
   "metadata": {},
   "source": [
    "### Tools"
   ]
  },
  {
   "cell_type": "code",
   "execution_count": 73,
   "metadata": {},
   "outputs": [],
   "source": [
    "from langchain_tavily import TavilySearch\n",
    "\n",
    "tool = TavilySearch(\n",
    "    max_results=5,\n",
    "    topic=\"general\",\n",
    "    # include_answer=False,\n",
    "    # include_raw_content=False,\n",
    "    # include_images=False,\n",
    "    # include_image_descriptions=False,\n",
    "    # search_depth=\"basic\",\n",
    "    # time_range=\"day\",\n",
    "    # include_domains=None,\n",
    "    # exclude_domains=None\n",
    ")"
   ]
  },
  {
   "cell_type": "code",
   "execution_count": 77,
   "metadata": {},
   "outputs": [
    {
     "data": {
      "text/plain": [
       "{'error': requests.exceptions.JSONDecodeError('Expecting value: line 1 column 1 (char 0)')}"
      ]
     },
     "execution_count": 77,
     "metadata": {},
     "output_type": "execute_result"
    }
   ],
   "source": [
    "tool.invoke(input={\"query\": \"What happened at the last wimbledon\"})"
   ]
  },
  {
   "cell_type": "markdown",
   "metadata": {},
   "source": [
    "### Event type 1: Comment created\n",
    "We want to create a new thread using the Openai Assistant's SDK and start a run "
   ]
  },
  {
   "cell_type": "code",
   "execution_count": null,
   "metadata": {},
   "outputs": [],
   "source": [
    "from openai import OpenAI\n",
    "\n",
    "client\n",
    "\n"
   ]
  },
  {
   "cell_type": "markdown",
   "metadata": {},
   "source": [
    "### Event type 2: Comment updated\n",
    "We want to check with openAI's assistant SDK to see if there is a thread available for this comment, based on the discussion ID. "
   ]
  },
  {
   "cell_type": "code",
   "execution_count": null,
   "metadata": {},
   "outputs": [],
   "source": []
  }
 ],
 "metadata": {
  "kernelspec": {
   "display_name": ".venv",
   "language": "python",
   "name": "python3"
  },
  "language_info": {
   "codemirror_mode": {
    "name": "ipython",
    "version": 3
   },
   "file_extension": ".py",
   "mimetype": "text/x-python",
   "name": "python",
   "nbconvert_exporter": "python",
   "pygments_lexer": "ipython3",
   "version": "3.12.5"
  }
 },
 "nbformat": 4,
 "nbformat_minor": 2
}
