{
 "cells": [
  {
   "cell_type": "code",
   "execution_count": 1,
   "metadata": {},
   "outputs": [
    {
     "data": {
      "text/plain": [
       "True"
      ]
     },
     "execution_count": 1,
     "metadata": {},
     "output_type": "execute_result"
    }
   ],
   "source": [
    "from dotenv import load_dotenv\n",
    "load_dotenv()"
   ]
  },
  {
   "cell_type": "code",
   "execution_count": 2,
   "metadata": {},
   "outputs": [],
   "source": [
    "# Initialize Notion client\n",
    "from notion_client import Client\n",
    "\n",
    "import os\n",
    "notion = Client(auth=os.getenv(\"NOTION_API_KEY\"))\n"
   ]
  },
  {
   "cell_type": "code",
   "execution_count": 11,
   "metadata": {},
   "outputs": [
    {
     "data": {
      "text/plain": [
       "[{'object': 'comment',\n",
       "  'id': '1c1592a3-0352-8042-8df2-001d0797d9ae',\n",
       "  'parent': {'type': 'page_id',\n",
       "   'page_id': '9e05a709-6962-4a79-9c07-97eaafb9db68'},\n",
       "  'discussion_id': '1c1592a3-0352-803c-a2aa-001c27dbf2b3',\n",
       "  'created_time': '2025-03-25T21:47:00.000Z',\n",
       "  'last_edited_time': '2025-03-25T21:47:00.000Z',\n",
       "  'created_by': {'object': 'user',\n",
       "   'id': '59164cd3-f8de-49dc-a432-e8cb48b4a39d'},\n",
       "  'rich_text': [{'type': 'text',\n",
       "    'text': {'content': 'What kind of bear is best', 'link': None},\n",
       "    'annotations': {'bold': False,\n",
       "     'italic': False,\n",
       "     'strikethrough': False,\n",
       "     'underline': False,\n",
       "     'code': False,\n",
       "     'color': 'default'},\n",
       "    'plain_text': 'What kind of bear is best',\n",
       "    'href': None}]},\n",
       " {'object': 'comment',\n",
       "  'id': '1c2592a3-0352-81cf-9796-001d5b293ed7',\n",
       "  'parent': {'type': 'page_id',\n",
       "   'page_id': '9e05a709-6962-4a79-9c07-97eaafb9db68'},\n",
       "  'discussion_id': '1c1592a3-0352-803c-a2aa-001c27dbf2b3',\n",
       "  'created_time': '2025-03-26T00:22:00.000Z',\n",
       "  'last_edited_time': '2025-03-26T00:22:00.000Z',\n",
       "  'created_by': {'object': 'user',\n",
       "   'id': '28a90a7f-0d89-4566-b10c-65c923c42d6e'},\n",
       "  'rich_text': [{'type': 'text',\n",
       "    'text': {'content': \"AI Assistant: It's a matter of opinion, but many people believe that the best kind of bear is the grizzly bear due to its impressive size and strength. However, pandas are also beloved for their cute appearance and gentle nature. Ultimately, the best kind of bear is whichever one you personally find most fascinating or endearing!\",\n",
       "     'link': None},\n",
       "    'annotations': {'bold': False,\n",
       "     'italic': False,\n",
       "     'strikethrough': False,\n",
       "     'underline': False,\n",
       "     'code': False,\n",
       "     'color': 'default'},\n",
       "    'plain_text': \"AI Assistant: It's a matter of opinion, but many people believe that the best kind of bear is the grizzly bear due to its impressive size and strength. However, pandas are also beloved for their cute appearance and gentle nature. Ultimately, the best kind of bear is whichever one you personally find most fascinating or endearing!\",\n",
       "    'href': None}]}]"
      ]
     },
     "execution_count": 11,
     "metadata": {},
     "output_type": "execute_result"
    }
   ],
   "source": [
    "comments = notion.comments.list(block_id=os.getenv(\"NOTION_PAGE\")).get(\"results\", None)\n",
    "comments"
   ]
  },
  {
   "cell_type": "markdown",
   "metadata": {},
   "source": [
    "# Message Store Database"
   ]
  },
  {
   "cell_type": "markdown",
   "metadata": {},
   "source": [
    "## Setup"
   ]
  },
  {
   "cell_type": "code",
   "execution_count": 5,
   "metadata": {},
   "outputs": [],
   "source": [
    "import sqlite3\n",
    "\n",
    "# SQLite database configuration\n",
    "DATABASE_PATH = os.getenv(\"DATABASE_PATH\", \"notion_comments.db\")\n",
    "\n",
    "def init_database():\n",
    "    \"\"\"Initialize the SQLite database with the required schema.\"\"\"\n",
    "    try:\n",
    "        conn = sqlite3.connect(DATABASE_PATH)\n",
    "        cursor = conn.cursor()\n",
    "        \n",
    "        # Create messages table\n",
    "        cursor.execute('''\n",
    "        CREATE TABLE IF NOT EXISTS messages (\n",
    "            id TEXT PRIMARY KEY,\n",
    "            discussion_id TEXT,\n",
    "            parent_type TEXT,\n",
    "            parent_id TEXT,\n",
    "            created_time TEXT,\n",
    "            last_edited_time TEXT,\n",
    "            created_by_id TEXT,\n",
    "            plain_text TEXT\n",
    "        )\n",
    "        ''')\n",
    "        \n",
    "        conn.commit()\n",
    "        conn.close()\n",
    "        print(f\"Database initialized at {DATABASE_PATH}\")\n",
    "    except Exception as e:\n",
    "        print(f\"Error initializing database: {e}\")"
   ]
  },
  {
   "cell_type": "code",
   "execution_count": 6,
   "metadata": {},
   "outputs": [],
   "source": [
    "def store_comment_in_db(comment):\n",
    "    \"\"\"Store a comment in the SQLite database.\"\"\"\n",
    "    try:\n",
    "        # Extract required fields from the comment\n",
    "        comment_id = comment[\"id\"]\n",
    "        discussion_id = comment.get(\"discussion_id\", \"\")\n",
    "        \n",
    "        # Determine parent type and ID\n",
    "        parent_type = \"\"\n",
    "        parent_id = \"\"\n",
    "        if \"parent\" in comment:\n",
    "            if \"page_id\" in comment[\"parent\"]:\n",
    "                parent_type = \"page\"\n",
    "                parent_id = comment[\"parent\"][\"page_id\"]\n",
    "            elif \"block_id\" in comment[\"parent\"]:\n",
    "                parent_type = \"block\"\n",
    "                parent_id = comment[\"parent\"][\"block_id\"]\n",
    "        \n",
    "        # Extract timestamps\n",
    "        created_time = comment.get(\"created_time\", \"\")\n",
    "        last_edited_time = comment.get(\"last_edited_time\", \"\")\n",
    "        \n",
    "        # Extract user ID\n",
    "        created_by_id = \"\"\n",
    "        if \"created_by\" in comment and \"id\" in comment[\"created_by\"]:\n",
    "            created_by_id = comment[\"created_by\"][\"id\"]\n",
    "        \n",
    "        # Extract plain text content\n",
    "        plain_text = \"\"\n",
    "        if \"rich_text\" in comment and len(comment[\"rich_text\"]) > 0:\n",
    "            plain_text = comment[\"rich_text\"][0].get(\"text\", {}).get(\"content\", \"\")\n",
    "        \n",
    "        # Connect to database and insert/update the comment\n",
    "        conn = sqlite3.connect(DATABASE_PATH)\n",
    "        cursor = conn.cursor()\n",
    "        \n",
    "        # Check if comment already exists\n",
    "        cursor.execute(\"SELECT id FROM messages WHERE id = ?\", (comment_id,))\n",
    "        exists = cursor.fetchone()\n",
    "        \n",
    "        if exists:\n",
    "            # Update existing comment\n",
    "            cursor.execute('''\n",
    "            UPDATE messages SET \n",
    "                discussion_id = ?,\n",
    "                parent_type = ?,\n",
    "                parent_id = ?,\n",
    "                created_time = ?,\n",
    "                last_edited_time = ?,\n",
    "                created_by_id = ?,\n",
    "                plain_text = ?\n",
    "            WHERE id = ?\n",
    "            ''', (discussion_id, parent_type, parent_id, created_time, last_edited_time, \n",
    "                  created_by_id, plain_text, comment_id))\n",
    "        else:\n",
    "            # Insert new comment\n",
    "            cursor.execute('''\n",
    "            INSERT INTO messages (\n",
    "                id, discussion_id, parent_type, parent_id, \n",
    "                created_time, last_edited_time, created_by_id, plain_text\n",
    "            ) VALUES (?, ?, ?, ?, ?, ?, ?, ?)\n",
    "            ''', (comment_id, discussion_id, parent_type, parent_id, created_time, \n",
    "                  last_edited_time, created_by_id, plain_text))\n",
    "        \n",
    "        conn.commit()\n",
    "        conn.close()\n",
    "        print(f\"Comment {comment_id} stored in database\")\n",
    "        return True\n",
    "    except Exception as e:\n",
    "        print(f\"Error storing comment in database: {e}\")\n",
    "        return False"
   ]
  },
  {
   "cell_type": "code",
   "execution_count": 7,
   "metadata": {},
   "outputs": [],
   "source": [
    "def get_comments_from_db():\n",
    "    \"\"\"Retrieve all comments from the database.\"\"\"\n",
    "    try:\n",
    "        conn = sqlite3.connect(DATABASE_PATH)\n",
    "        cursor = conn.cursor()\n",
    "        cursor.execute(\"SELECT * FROM messages\")\n",
    "        comments = cursor.fetchall()\n",
    "        \n",
    "        # Convert to list of dictionaries\n",
    "        columns = [\"id\", \"discussion_id\", \"parent_type\", \"parent_id\", \n",
    "                  \"created_time\", \"last_edited_time\", \"created_by_id\", \"plain_text\"]\n",
    "        result = [dict(zip(columns, comment)) for comment in comments]\n",
    "        \n",
    "        conn.close()\n",
    "        return result\n",
    "    except Exception as e:\n",
    "        print(f\"Error retrieving comments from database: {e}\")\n",
    "        return []"
   ]
  },
  {
   "cell_type": "markdown",
   "metadata": {},
   "source": [
    "## Usage"
   ]
  },
  {
   "cell_type": "code",
   "execution_count": 14,
   "metadata": {},
   "outputs": [
    {
     "name": "stdout",
     "output_type": "stream",
     "text": [
      "Database initialized at notion_comments.db\n"
     ]
    }
   ],
   "source": [
    "init_database()"
   ]
  },
  {
   "cell_type": "code",
   "execution_count": 15,
   "metadata": {},
   "outputs": [
    {
     "name": "stdout",
     "output_type": "stream",
     "text": [
      "Comment 1c1592a3-0352-8042-8df2-001d0797d9ae stored in database\n",
      "Comment 1c2592a3-0352-81cf-9796-001d5b293ed7 stored in database\n"
     ]
    }
   ],
   "source": [
    "for comment in comments:\n",
    "    store_comment_in_db(comment)"
   ]
  },
  {
   "cell_type": "code",
   "execution_count": 16,
   "metadata": {},
   "outputs": [
    {
     "data": {
      "text/plain": [
       "[{'id': '1c1592a3-0352-8042-8df2-001d0797d9ae',\n",
       "  'discussion_id': '1c1592a3-0352-803c-a2aa-001c27dbf2b3',\n",
       "  'parent_type': 'page',\n",
       "  'parent_id': '9e05a709-6962-4a79-9c07-97eaafb9db68',\n",
       "  'created_time': '2025-03-25T21:47:00.000Z',\n",
       "  'last_edited_time': '2025-03-25T21:47:00.000Z',\n",
       "  'created_by_id': '59164cd3-f8de-49dc-a432-e8cb48b4a39d',\n",
       "  'plain_text': 'What kind of bear is best'},\n",
       " {'id': '1c2592a3-0352-81cf-9796-001d5b293ed7',\n",
       "  'discussion_id': '1c1592a3-0352-803c-a2aa-001c27dbf2b3',\n",
       "  'parent_type': 'page',\n",
       "  'parent_id': '9e05a709-6962-4a79-9c07-97eaafb9db68',\n",
       "  'created_time': '2025-03-26T00:22:00.000Z',\n",
       "  'last_edited_time': '2025-03-26T00:22:00.000Z',\n",
       "  'created_by_id': '28a90a7f-0d89-4566-b10c-65c923c42d6e',\n",
       "  'plain_text': \"AI Assistant: It's a matter of opinion, but many people believe that the best kind of bear is the grizzly bear due to its impressive size and strength. However, pandas are also beloved for their cute appearance and gentle nature. Ultimately, the best kind of bear is whichever one you personally find most fascinating or endearing!\"}]"
      ]
     },
     "execution_count": 16,
     "metadata": {},
     "output_type": "execute_result"
    }
   ],
   "source": [
    "get_comments_from_db()"
   ]
  },
  {
   "cell_type": "markdown",
   "metadata": {},
   "source": [
    "# Webhooks: Comment Created"
   ]
  },
  {
   "cell_type": "code",
   "execution_count": 4,
   "metadata": {},
   "outputs": [
    {
     "name": "stdout",
     "output_type": "stream",
     "text": [
      "{'id': 'fa230122-3000-47ee-b54b-f32d94ff9938', 'timestamp': '2025-03-31T21:29:49.286Z', 'workspace_id': 'e83f67a4-b5c2-45ad-90ad-f8e8267e1123', 'workspace_name': \"Ethan's Notion\", 'subscription_id': '1c7d872b-594c-8182-8b10-009956303ceb', 'integration_id': '15fd872b-594c-81d1-9210-00378dd09e38', 'authors': [{'id': '59164cd3-f8de-49dc-a432-e8cb48b4a39d', 'type': 'person'}], 'attempt_number': 1, 'type': 'comment.created', 'entity': {'id': '1c7592a3-0352-8045-900e-001d5e0f8de8', 'type': 'comment'}, 'data': {'page_id': 'd2025568-688b-46fe-a462-9e298aa22c03', 'parent': {'id': 'd2025568-688b-46fe-a462-9e298aa22c03', 'type': 'page'}}}\n"
     ]
    }
   ],
   "source": [
    "# This is what an event emitted to the server from Notion looks like\n",
    "example_event = {'id': 'fa230122-3000-47ee-b54b-f32d94ff9938', 'timestamp': '2025-03-31T21:29:49.286Z', 'workspace_id': 'e83f67a4-b5c2-45ad-90ad-f8e8267e1123', 'workspace_name': \"Ethan's Notion\", 'subscription_id': '1c7d872b-594c-8182-8b10-009956303ceb', 'integration_id': '15fd872b-594c-81d1-9210-00378dd09e38', 'authors': [{'id': '59164cd3-f8de-49dc-a432-e8cb48b4a39d', 'type': 'person'}], 'attempt_number': 1, 'type': 'comment.created', 'entity': {'id': '1c7592a3-0352-8045-900e-001d5e0f8de8', 'type': 'comment'}, 'data': {'page_id': 'd2025568-688b-46fe-a462-9e298aa22c03', 'parent': {'id': 'd2025568-688b-46fe-a462-9e298aa22c03', 'type': 'page'}}}\n",
    "print(example_event)"
   ]
  },
  {
   "cell_type": "markdown",
   "metadata": {},
   "source": [
    "## Use the event data to get the comment that triggered the event"
   ]
  },
  {
   "cell_type": "code",
   "execution_count": 7,
   "metadata": {},
   "outputs": [
    {
     "name": "stdout",
     "output_type": "stream",
     "text": [
      "{'object': 'list', 'results': [{'object': 'comment', 'id': '1c7592a3-0352-8045-900e-001d5e0f8de8', 'parent': {'type': 'page_id', 'page_id': 'd2025568-688b-46fe-a462-9e298aa22c03'}, 'discussion_id': '1c7592a3-0352-80cf-a0e6-001c253caabc', 'created_time': '2025-03-31T21:29:00.000Z', 'last_edited_time': '2025-03-31T21:29:00.000Z', 'created_by': {'object': 'user', 'id': '59164cd3-f8de-49dc-a432-e8cb48b4a39d'}, 'rich_text': [{'type': 'text', 'text': {'content': 'THis is a new comment', 'link': None}, 'annotations': {'bold': False, 'italic': False, 'strikethrough': False, 'underline': False, 'code': False, 'color': 'default'}, 'plain_text': 'THis is a new comment', 'href': None}]}], 'next_cursor': None, 'has_more': False, 'type': 'comment', 'comment': {}, 'request_id': 'ef832243-db1b-4fa8-976a-465ed60ef376'}\n"
     ]
    }
   ],
   "source": [
    "comments = notion.comments.list(block_id=example_event['parent']['id'])\n",
    "print(comments)"
   ]
  },
  {
   "cell_type": "code",
   "execution_count": 10,
   "metadata": {},
   "outputs": [
    {
     "name": "stdout",
     "output_type": "stream",
     "text": [
      "[{'object': 'comment', 'id': '1c7592a3-0352-8045-900e-001d5e0f8de8', 'parent': {'type': 'page_id', 'page_id': 'd2025568-688b-46fe-a462-9e298aa22c03'}, 'discussion_id': '1c7592a3-0352-80cf-a0e6-001c253caabc', 'created_time': '2025-03-31T21:29:00.000Z', 'last_edited_time': '2025-03-31T21:29:00.000Z', 'created_by': {'object': 'user', 'id': '59164cd3-f8de-49dc-a432-e8cb48b4a39d'}, 'rich_text': [{'type': 'text', 'text': {'content': 'THis is a new comment', 'link': None}, 'annotations': {'bold': False, 'italic': False, 'strikethrough': False, 'underline': False, 'code': False, 'color': 'default'}, 'plain_text': 'THis is a new comment', 'href': None}]}]\n"
     ]
    }
   ],
   "source": [
    "triggering_comment = [comment for comment in comments['results'] if comment['id'] == example_event['entity']['id']]\n",
    "print(triggering_comment)"
   ]
  },
  {
   "cell_type": "markdown",
   "metadata": {},
   "source": [
    "## Event handling:\n",
    "\n",
    "Three kinds of comment events are available for subscription. The type of the event emitted is provided in the event payload under the `type` keyword\n",
    "1. a new comment was created `type: comment.created`\n",
    "2. a comment was updated `type: comment.updated`\n",
    "3. a comment was deleted `type: comment.deleted`"
   ]
  },
  {
   "cell_type": "code",
   "execution_count": 14,
   "metadata": {},
   "outputs": [
    {
     "ename": "NameError",
     "evalue": "name 'OpenAI' is not defined",
     "output_type": "error",
     "traceback": [
      "\u001b[31m---------------------------------------------------------------------------\u001b[39m",
      "\u001b[31mNameError\u001b[39m                                 Traceback (most recent call last)",
      "\u001b[36mCell\u001b[39m\u001b[36m \u001b[39m\u001b[32mIn[14]\u001b[39m\u001b[32m, line 4\u001b[39m\n\u001b[32m      1\u001b[39m \u001b[38;5;66;03m# Creating an OpenAI client\u001b[39;00m\n\u001b[32m      2\u001b[39m \u001b[38;5;28;01mfrom\u001b[39;00m\u001b[38;5;250m \u001b[39m\u001b[34;01mopenai\u001b[39;00m\u001b[38;5;250m \u001b[39m\u001b[38;5;28;01mimport\u001b[39;00m * \n\u001b[32m----> \u001b[39m\u001b[32m4\u001b[39m oai = \u001b[43mOpenAI\u001b[49m()\n",
      "\u001b[31mNameError\u001b[39m: name 'OpenAI' is not defined"
     ]
    }
   ],
   "source": [
    "# Creating an OpenAI client\n",
    "\n"
   ]
  },
  {
   "cell_type": "markdown",
   "metadata": {},
   "source": [
    "### Event type 1: Comment created\n",
    "We want to create a new thread using the Openai Assistant's SDK and start a run "
   ]
  },
  {
   "cell_type": "code",
   "execution_count": null,
   "metadata": {},
   "outputs": [],
   "source": [
    "from openai import OpenAI\n",
    "\n",
    "client\n",
    "\n"
   ]
  },
  {
   "cell_type": "markdown",
   "metadata": {},
   "source": [
    "### Event type 2: Comment updated\n",
    "We want to check with openAI's assistant SDK to see if there is a thread available for this comment, based on the discussion ID. "
   ]
  },
  {
   "cell_type": "code",
   "execution_count": null,
   "metadata": {},
   "outputs": [],
   "source": []
  }
 ],
 "metadata": {
  "kernelspec": {
   "display_name": ".venv",
   "language": "python",
   "name": "python3"
  },
  "language_info": {
   "codemirror_mode": {
    "name": "ipython",
    "version": 3
   },
   "file_extension": ".py",
   "mimetype": "text/x-python",
   "name": "python",
   "nbconvert_exporter": "python",
   "pygments_lexer": "ipython3",
   "version": "3.12.5"
  }
 },
 "nbformat": 4,
 "nbformat_minor": 2
}
