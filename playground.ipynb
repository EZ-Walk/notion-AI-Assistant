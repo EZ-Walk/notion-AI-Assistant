{
 "cells": [
  {
   "cell_type": "code",
   "execution_count": 2,
   "metadata": {},
   "outputs": [
    {
     "data": {
      "text/plain": [
       "True"
      ]
     },
     "execution_count": 2,
     "metadata": {},
     "output_type": "execute_result"
    }
   ],
   "source": [
    "from dotenv import load_dotenv\n",
    "load_dotenv()"
   ]
  },
  {
   "cell_type": "code",
   "execution_count": 6,
   "metadata": {},
   "outputs": [],
   "source": [
    "# Initialize Notion client\n",
    "from notion_client import Client\n",
    "import os\n",
    "notion = Client(auth=os.getenv(\"NOTION_API_KEY\"))"
   ]
  },
  {
   "cell_type": "code",
   "execution_count": 11,
   "metadata": {},
   "outputs": [
    {
     "data": {
      "text/plain": [
       "[{'object': 'comment',\n",
       "  'id': '1c1592a3-0352-8042-8df2-001d0797d9ae',\n",
       "  'parent': {'type': 'page_id',\n",
       "   'page_id': '9e05a709-6962-4a79-9c07-97eaafb9db68'},\n",
       "  'discussion_id': '1c1592a3-0352-803c-a2aa-001c27dbf2b3',\n",
       "  'created_time': '2025-03-25T21:47:00.000Z',\n",
       "  'last_edited_time': '2025-03-25T21:47:00.000Z',\n",
       "  'created_by': {'object': 'user',\n",
       "   'id': '59164cd3-f8de-49dc-a432-e8cb48b4a39d'},\n",
       "  'rich_text': [{'type': 'text',\n",
       "    'text': {'content': 'What kind of bear is best', 'link': None},\n",
       "    'annotations': {'bold': False,\n",
       "     'italic': False,\n",
       "     'strikethrough': False,\n",
       "     'underline': False,\n",
       "     'code': False,\n",
       "     'color': 'default'},\n",
       "    'plain_text': 'What kind of bear is best',\n",
       "    'href': None}]}]"
      ]
     },
     "execution_count": 11,
     "metadata": {},
     "output_type": "execute_result"
    }
   ],
   "source": [
    "comments = notion.comments.list(block_id=os.getenv(\"NOTION_PAGE\")).get(\"results\", None)\n",
    "comments"
   ]
  },
  {
   "cell_type": "markdown",
   "metadata": {},
   "source": [
    "# Message Store Database"
   ]
  },
  {
   "cell_type": "markdown",
   "metadata": {},
   "source": [
    "## Setup"
   ]
  },
  {
   "cell_type": "code",
   "execution_count": 16,
   "metadata": {},
   "outputs": [],
   "source": [
    "import sqlite3\n",
    "\n",
    "# SQLite database configuration\n",
    "DATABASE_PATH = os.getenv(\"DATABASE_PATH\", \"notion_comments.db\")\n",
    "\n",
    "def init_database():\n",
    "    \"\"\"Initialize the SQLite database with the required schema.\"\"\"\n",
    "    try:\n",
    "        conn = sqlite3.connect(DATABASE_PATH)\n",
    "        cursor = conn.cursor()\n",
    "        \n",
    "        # Create messages table\n",
    "        cursor.execute('''\n",
    "        CREATE TABLE IF NOT EXISTS messages (\n",
    "            id TEXT PRIMARY KEY,\n",
    "            discussion_id TEXT,\n",
    "            parent_type TEXT,\n",
    "            parent_id TEXT,\n",
    "            created_time TEXT,\n",
    "            last_edited_time TEXT,\n",
    "            created_by_id TEXT,\n",
    "            plain_text TEXT\n",
    "        )\n",
    "        ''')\n",
    "        \n",
    "        conn.commit()\n",
    "        conn.close()\n",
    "        print(f\"Database initialized at {DATABASE_PATH}\")\n",
    "    except Exception as e:\n",
    "        print(f\"Error initializing database: {e}\")"
   ]
  },
  {
   "cell_type": "code",
   "execution_count": 19,
   "metadata": {},
   "outputs": [],
   "source": [
    "def store_comment_in_db(comment):\n",
    "    \"\"\"Store a comment in the SQLite database.\"\"\"\n",
    "    try:\n",
    "        # Extract required fields from the comment\n",
    "        comment_id = comment[\"id\"]\n",
    "        discussion_id = comment.get(\"discussion_id\", \"\")\n",
    "        \n",
    "        # Determine parent type and ID\n",
    "        parent_type = \"\"\n",
    "        parent_id = \"\"\n",
    "        if \"parent\" in comment:\n",
    "            if \"page_id\" in comment[\"parent\"]:\n",
    "                parent_type = \"page\"\n",
    "                parent_id = comment[\"parent\"][\"page_id\"]\n",
    "            elif \"block_id\" in comment[\"parent\"]:\n",
    "                parent_type = \"block\"\n",
    "                parent_id = comment[\"parent\"][\"block_id\"]\n",
    "        \n",
    "        # Extract timestamps\n",
    "        created_time = comment.get(\"created_time\", \"\")\n",
    "        last_edited_time = comment.get(\"last_edited_time\", \"\")\n",
    "        \n",
    "        # Extract user ID\n",
    "        created_by_id = \"\"\n",
    "        if \"created_by\" in comment and \"id\" in comment[\"created_by\"]:\n",
    "            created_by_id = comment[\"created_by\"][\"id\"]\n",
    "        \n",
    "        # Extract plain text content\n",
    "        plain_text = \"\"\n",
    "        if \"rich_text\" in comment and len(comment[\"rich_text\"]) > 0:\n",
    "            plain_text = comment[\"rich_text\"][0].get(\"text\", {}).get(\"content\", \"\")\n",
    "        \n",
    "        # Connect to database and insert/update the comment\n",
    "        conn = sqlite3.connect(DATABASE_PATH)\n",
    "        cursor = conn.cursor()\n",
    "        \n",
    "        # Check if comment already exists\n",
    "        cursor.execute(\"SELECT id FROM messages WHERE id = ?\", (comment_id,))\n",
    "        exists = cursor.fetchone()\n",
    "        \n",
    "        if exists:\n",
    "            # Update existing comment\n",
    "            cursor.execute('''\n",
    "            UPDATE messages SET \n",
    "                discussion_id = ?,\n",
    "                parent_type = ?,\n",
    "                parent_id = ?,\n",
    "                created_time = ?,\n",
    "                last_edited_time = ?,\n",
    "                created_by_id = ?,\n",
    "                plain_text = ?\n",
    "            WHERE id = ?\n",
    "            ''', (discussion_id, parent_type, parent_id, created_time, last_edited_time, \n",
    "                  created_by_id, plain_text, comment_id))\n",
    "        else:\n",
    "            # Insert new comment\n",
    "            cursor.execute('''\n",
    "            INSERT INTO messages (\n",
    "                id, discussion_id, parent_type, parent_id, \n",
    "                created_time, last_edited_time, created_by_id, plain_text\n",
    "            ) VALUES (?, ?, ?, ?, ?, ?, ?, ?)\n",
    "            ''', (comment_id, discussion_id, parent_type, parent_id, created_time, \n",
    "                  last_edited_time, created_by_id, plain_text))\n",
    "        \n",
    "        conn.commit()\n",
    "        conn.close()\n",
    "        print(f\"Comment {comment_id} stored in database\")\n",
    "        return True\n",
    "    except Exception as e:\n",
    "        print(f\"Error storing comment in database: {e}\")\n",
    "        return False"
   ]
  },
  {
   "cell_type": "code",
   "execution_count": 20,
   "metadata": {},
   "outputs": [],
   "source": [
    "def get_comments_from_db():\n",
    "    \"\"\"Retrieve all comments from the database.\"\"\"\n",
    "    try:\n",
    "        conn = sqlite3.connect(DATABASE_PATH)\n",
    "        cursor = conn.cursor()\n",
    "        cursor.execute(\"SELECT * FROM messages\")\n",
    "        comments = cursor.fetchall()\n",
    "        \n",
    "        # Convert to list of dictionaries\n",
    "        columns = [\"id\", \"discussion_id\", \"parent_type\", \"parent_id\", \n",
    "                  \"created_time\", \"last_edited_time\", \"created_by_id\", \"plain_text\"]\n",
    "        result = [dict(zip(columns, comment)) for comment in comments]\n",
    "        \n",
    "        conn.close()\n",
    "        return result\n",
    "    except Exception as e:\n",
    "        print(f\"Error retrieving comments from database: {e}\")\n",
    "        return []"
   ]
  },
  {
   "cell_type": "markdown",
   "metadata": {},
   "source": [
    "## Usage"
   ]
  },
  {
   "cell_type": "code",
   "execution_count": 17,
   "metadata": {},
   "outputs": [
    {
     "name": "stdout",
     "output_type": "stream",
     "text": [
      "Database initialized at notion_comments.db\n"
     ]
    }
   ],
   "source": [
    "init_database()"
   ]
  },
  {
   "cell_type": "code",
   "execution_count": 21,
   "metadata": {},
   "outputs": [
    {
     "name": "stdout",
     "output_type": "stream",
     "text": [
      "Comment 1c1592a3-0352-8042-8df2-001d0797d9ae stored in database\n"
     ]
    }
   ],
   "source": [
    "for comment in comments:\n",
    "    store_comment_in_db(comment)"
   ]
  },
  {
   "cell_type": "code",
   "execution_count": 22,
   "metadata": {},
   "outputs": [
    {
     "data": {
      "text/plain": [
       "[{'id': '1c1592a3-0352-8042-8df2-001d0797d9ae',\n",
       "  'discussion_id': '1c1592a3-0352-803c-a2aa-001c27dbf2b3',\n",
       "  'parent_type': 'page',\n",
       "  'parent_id': '9e05a709-6962-4a79-9c07-97eaafb9db68',\n",
       "  'created_time': '2025-03-25T21:47:00.000Z',\n",
       "  'last_edited_time': '2025-03-25T21:47:00.000Z',\n",
       "  'created_by_id': '59164cd3-f8de-49dc-a432-e8cb48b4a39d',\n",
       "  'plain_text': 'What kind of bear is best'}]"
      ]
     },
     "execution_count": 22,
     "metadata": {},
     "output_type": "execute_result"
    }
   ],
   "source": [
    "get_comments_from_db()"
   ]
  },
  {
   "cell_type": "markdown",
   "metadata": {},
   "source": [
    "# OpenAI Assistants API"
   ]
  },
  {
   "cell_type": "code",
   "execution_count": null,
   "metadata": {},
   "outputs": [],
   "source": []
  }
 ],
 "metadata": {
  "kernelspec": {
   "display_name": ".venv",
   "language": "python",
   "name": "python3"
  },
  "language_info": {
   "codemirror_mode": {
    "name": "ipython",
    "version": 3
   },
   "file_extension": ".py",
   "mimetype": "text/x-python",
   "name": "python",
   "nbconvert_exporter": "python",
   "pygments_lexer": "ipython3",
   "version": "3.12.5"
  }
 },
 "nbformat": 4,
 "nbformat_minor": 2
}
